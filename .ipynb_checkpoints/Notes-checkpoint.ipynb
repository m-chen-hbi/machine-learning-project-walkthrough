{
 "cells": [
  {
   "cell_type": "markdown",
   "id": "d6c5f0e6-2bd7-472b-a0bd-b8878eccbbc1",
   "metadata": {},
   "source": [
    "Notes\n",
    "- Regression problem: target is continuous variable\n",
    "- Outliers vs. extreme outliers\n",
    "- For non-linearly-correlated features: can take log / sqrt\n",
    "    - Minimizes effect of largely varying values (greater variance w/ larger values vs. smaller values)\n",
    "    - Be sure to explain these changes (e.g., magnifying variance in data within smaller values) --> otherwise misleading data\n",
    "\n",
    "\n",
    "Follow-Up:\n",
    "- Compare buildings w/ scores of 1, 100 for similarities?"
   ]
  }
 ],
 "metadata": {
  "kernelspec": {
   "display_name": "Python 3 (ipykernel)",
   "language": "python",
   "name": "python3"
  },
  "language_info": {
   "codemirror_mode": {
    "name": "ipython",
    "version": 3
   },
   "file_extension": ".py",
   "mimetype": "text/x-python",
   "name": "python",
   "nbconvert_exporter": "python",
   "pygments_lexer": "ipython3",
   "version": "3.10.7"
  }
 },
 "nbformat": 4,
 "nbformat_minor": 5
}
