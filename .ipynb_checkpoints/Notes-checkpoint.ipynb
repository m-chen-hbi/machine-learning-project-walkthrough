{
 "cells": [
  {
   "cell_type": "markdown",
   "id": "d6c5f0e6-2bd7-472b-a0bd-b8878eccbbc1",
   "metadata": {},
   "source": [
    "Notes\n",
    "- Regression problem: target is continuous variable\n",
    "- Outliers vs. extreme outliers\n",
    "- For non-linearly-correlated features: can take log / sqrt\n",
    "    - Minimizes effect of largely varying values (greater variance w/ larger values vs. smaller values)\n",
    "    - Be sure to explain these changes (e.g., magnifying variance in data within smaller values) --> otherwise misleading data\n",
    "- Popular models\n",
    "    1. [Linear Regression](https://www.investopedia.com/terms/m/mlr.asp#:~:text=Key%20Takeaways-,Multiple%20linear%20regression%20(MLR)%2C%20also%20known%20simply%20as%20multiple,uses%20just%20one%20explanatory%20variable.)\n",
    "    2. [Support Vector Machine Regression](https://towardsdatascience.com/support-vector-machine-introduction-to-machine-learning-algorithms-934a444fca47)\n",
    "    3. [Random Forest Regression](https://dataaspirant.com/random-forest-algorithm-machine-learing/)\n",
    "    4. [Gradient Boosting Regression](https://towardsdatascience.com/all-you-need-to-know-about-gradient-boosting-algorithm-part-1-regression-2520a34a502)\n",
    "    5. [K-Nearest Neighbors Regression](https://www.analyticsvidhya.com/blog/2018/08/k-nearest-neighbor-introduction-regression-python/)\n",
    "\n",
    "\n",
    "Follow-Up:\n",
    "- Compare buildings w/ scores of 1, 100 for similarities?\n",
    "- Skipping one-hot encoding [(alternative)](https://medium.com/@kaoningyu/dont-use-one-hot-encoding-anymore-25b5882e533f)?\n",
    "    - How to differentiate w/ one-hot encoding (e.g., categories divided into 0,...,n but assignments are random --> higher values do not indicate lower correlation even if there is strong dependency)?\n",
    "- Training different regression model?\n",
    "- Better results w/ gradient boosting, reduced features"
   ]
  }
 ],
 "metadata": {
  "kernelspec": {
   "display_name": "Python 3 (ipykernel)",
   "language": "python",
   "name": "python3"
  },
  "language_info": {
   "codemirror_mode": {
    "name": "ipython",
    "version": 3
   },
   "file_extension": ".py",
   "mimetype": "text/x-python",
   "name": "python",
   "nbconvert_exporter": "python",
   "pygments_lexer": "ipython3",
   "version": "3.10.7"
  }
 },
 "nbformat": 4,
 "nbformat_minor": 5
}
